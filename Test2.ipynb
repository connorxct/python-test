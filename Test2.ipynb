{
 "cells": [
  {
   "cell_type": "markdown",
   "metadata": {},
   "source": [
    "## MATH2350 - Introduction to Analytics\n",
    "### In-Semester Test 2\n",
    "### Semester 2, 2019"
   ]
  },
  {
   "cell_type": "markdown",
   "metadata": {},
   "source": [
    "##### <font color='blue'> **Honour Code** </font>\n",
    "\n",
    "**(1)** I hereby agree to follow any and all in-semester test rules and procedures as stated in the Assessments Info page on Canvas for this course. \n",
    "\n",
    "**(2)** I solemnly declare that I will not communicate/ have not communicated with anyone in any way (other than the test invigilators) during the test (such as via emails, texting, chats, sharing files on Dropbox, etc). \n",
    "\n",
    "Please type your full legal name in the box below as your signature per your acceptance of the Honour Code. **Your test shall not be marked if you do not sign.**"
   ]
  },
  {
   "cell_type": "markdown",
   "metadata": {},
   "source": [
    "Full Name:"
   ]
  },
  {
   "cell_type": "markdown",
   "metadata": {},
   "source": [
    "***\n",
    "##### <font color='blue'> **Test Instructions** </font>\n",
    "- For each test question, feel free to add more Markdown/ Code answer cells as needed, but please keep these additions to a minimum.\n",
    "- Please keep your answers neatly organised. You will lose points if your solutions are all over the place.\n",
    "- You must show all your work for full credit.\n",
    "- Once you are done, it is your responsibility to run your notebook and then save it as an HTML file before submission. Your solutions shall be marked exactly as they appear in your HTML file.\n",
    "- You can submit your solutions file via *Canvas > Assignments > In-Semester Test 2*.\n",
    "- You must submit your solutions before the due time. If you miss the due time, you will receive a mark of zero for the test.\n",
    "- This test contains 6 questions for a total of 100 points."
   ]
  },
  {
   "cell_type": "code",
   "execution_count": 1,
   "metadata": {},
   "outputs": [],
   "source": [
    "# common statements\n",
    "import numpy as np\n",
    "from scipy.stats import norm"
   ]
  },
  {
   "cell_type": "markdown",
   "metadata": {},
   "source": [
    "<font color='red'>**Preliminaries**</font>\n",
    "\n",
    "\"The 100\" is a popular TV series that is also available on Netflix. Per IMDB, the series can be summarised as follows:\n",
    "\n",
    "\"Set ninety-seven years after a nuclear war has destroyed civilization, when a spaceship housing humanity's lone survivors sends one hundred juvenile delinquents back to Earth, in hopes of possibly re-populating the planet.\"\n",
    "\n",
    "All questions in this test are inspired by the 100 series (but not necessarily depicting an accurate account of what happens in the series). Our goal here is to illustrate that what you learn in this course is directly applicable everyday life, even in a post-apocalypse one!"
   ]
  },
  {
   "cell_type": "markdown",
   "metadata": {},
   "source": [
    "***\n",
    "***\n",
    "<font color='red'>**QUESTION 1: (15 points)**</font> The 100 individuals sent back to Earth can tolerate radiation to a certain degree. Specifically, the maximum radiation one of these individuals can tolerate is normally distributed with a mean of 10 grays and a standard deviation of 1.25 grays. The radiation level on the ground, however, is 8 grays. Compute the minimum number of radiation-proof suits they will need to fully accommodate the individuals who cannot tolerate the radiation on the ground."
   ]
  },
  {
   "cell_type": "markdown",
   "metadata": {},
   "source": [
    "(Your answer here)"
   ]
  },
  {
   "cell_type": "markdown",
   "metadata": {},
   "source": [
    "***\n",
    "***\n",
    "<font color='red'>**QUESTION 2: (20 points)**</font> The 100 individuals come across to grounders, people who have adapted to the post-war radiation levels and currently live on the ground. The grounders consist of 12 clans, one of them being the Ice Nation clan. Commander Lexa, leader of all the clans, randomly forms a delegation of 30 representatives selected from these 12 clans. Out of these 30 representatives, none of them are from the Ice Nation clan. The commander insists the selection was completely random in the sense that each clan had an equal chance of being selected (that is, with a 1/12 chance) for each one of the 30 seats.\n",
    "\n",
    "**A. (5 points)** What is the expected number of representatives from the Ice Nation clan assuming a fair selection process? (**HINT:** It might be useful to think about the Binomial distribution here.)"
   ]
  },
  {
   "cell_type": "markdown",
   "metadata": {},
   "source": [
    "(Your answer here)"
   ]
  },
  {
   "cell_type": "markdown",
   "metadata": {},
   "source": [
    "**B. (10 points)** What is the probability of ending up with a delegation without any representatives from the Ice Nation clan assuming a fair selection?"
   ]
  },
  {
   "cell_type": "markdown",
   "metadata": {},
   "source": [
    "(Your answer here)"
   ]
  },
  {
   "cell_type": "markdown",
   "metadata": {},
   "source": [
    "**C. (5 points)** Given your result in Part (B), does it appear the selection was fair, or was it rigged? Use a 5% significance level. (**CLARIFICATION:** For this part, you do not need to conduct a formal hypothesis and you do not need to check for any conditions and you do not need to do any further calculations.)"
   ]
  },
  {
   "cell_type": "markdown",
   "metadata": {},
   "source": [
    "(Your answer here)"
   ]
  },
  {
   "cell_type": "markdown",
   "metadata": {},
   "source": [
    "***\n",
    "***\n",
    "<font color='red'>**QUESTION 3: (20 points)**</font> One of the quirks of the ground is occasional acid fog. Only 150 grounders are immune to acid fog out of a total of 3000 grounders. For a random group of 250 grounders in an acid fog;\n",
    "\n",
    "**A. (6 points)** What is the expected value and standard deviation of the number of survivors? (**HINT:** It might be useful to think about the Binomial distribution here.)"
   ]
  },
  {
   "cell_type": "markdown",
   "metadata": {},
   "source": [
    "(Your answer here)"
   ]
  },
  {
   "cell_type": "markdown",
   "metadata": {},
   "source": [
    "**B. (8 points)** what is the approximate probability that the number of survivors is at least 20? "
   ]
  },
  {
   "cell_type": "markdown",
   "metadata": {},
   "source": [
    "(Your answer here)"
   ]
  },
  {
   "cell_type": "markdown",
   "metadata": {},
   "source": [
    "**C. (6 points)** Verify the conditions needed to compute the probability in Part (B) above."
   ]
  },
  {
   "cell_type": "markdown",
   "metadata": {},
   "source": [
    "(Your answer here)"
   ]
  },
  {
   "cell_type": "markdown",
   "metadata": {},
   "source": [
    "***\n",
    "***\n",
    "<font color='red'>**QUESTION 4: (15 points)**</font> The number of attacks on the 100's camp from the grounders is 65 attacks per year (with 52 weeks in a year). Assuming the number of attacks follow a Poisson distribution, what is the probability that there is at least one attack within a 4-week period?"
   ]
  },
  {
   "cell_type": "markdown",
   "metadata": {},
   "source": [
    "(Your answer here)"
   ]
  },
  {
   "cell_type": "markdown",
   "metadata": {},
   "source": [
    "***\n",
    "***\n",
    "<font color='red'>**QUESTION 5: (25 points)**</font> Commander of the grounders is interested whether her people would support peace with the 100 or they oppose peace. The commander randomly selects 200 grounders and it turns out 83 of them support peace. "
   ]
  },
  {
   "cell_type": "markdown",
   "metadata": {},
   "source": [
    "**A. (10 points)** Construct a 95% confidence interval for the proportion of grounders who support peace with the 100. Remember to check for any necessary conditions to construct this interval."
   ]
  },
  {
   "cell_type": "markdown",
   "metadata": {},
   "source": [
    "(Your answer here)"
   ]
  },
  {
   "cell_type": "markdown",
   "metadata": {},
   "source": [
    "**B. (15 points)**  The commander's chief counsel claims that majority of the grounders oppose peace with the 100. Does this sample provide enough evidence that the chief counsel is right at a 5% significance level? Please explain. Also report a p-value. Remember to check for any necessary conditions and also make sure to state the null and alternative hypotheses where \"p\" denotes the probability of supporting peace. (**HINT:** You can assume the null hypothesis as \"p = 0.5\".)"
   ]
  },
  {
   "cell_type": "markdown",
   "metadata": {},
   "source": [
    "(Your answer here)"
   ]
  },
  {
   "cell_type": "markdown",
   "metadata": {},
   "source": [
    "***\n",
    "***\n",
    "<font color='red'>**QUESTION 6: (5 points)**</font> There is no incorrect answer for this question. As long as you provide an answer, you will get the full score (our treat!). However, if you leave any part blank, you will not get any points for that part.\n",
    "\n",
    "**A. (2 points)** Have you ever watched a full episode of the 100 series? If no, please write N/A for \"not applicable\". If yes, how many episodes and/ or seasons?\n",
    "\n",
    "**B. (3 points)** If you have watched at least one full episode, how would you rate the series on a scale of 1 to 10? If you haven't, please write N/A."
   ]
  },
  {
   "cell_type": "markdown",
   "metadata": {},
   "source": [
    "(Your answer here)"
   ]
  },
  {
   "cell_type": "markdown",
   "metadata": {},
   "source": [
    "***\n",
    "**------------------------------ END OF TEST ------------------------------**"
   ]
  }
 ],
 "metadata": {
  "hide_input": false,
  "kernelspec": {
   "display_name": "Python 3",
   "language": "python",
   "name": "python3"
  },
  "language_info": {
   "codemirror_mode": {
    "name": "ipython",
    "version": 3
   },
   "file_extension": ".py",
   "mimetype": "text/x-python",
   "name": "python",
   "nbconvert_exporter": "python",
   "pygments_lexer": "ipython3",
   "version": "3.6.8"
  }
 },
 "nbformat": 4,
 "nbformat_minor": 2
}
