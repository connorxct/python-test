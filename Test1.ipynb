{
 "cells": [
  {
   "cell_type": "markdown",
   "metadata": {},
   "source": [
    "## MATH2350 - Introduction to Analytics\n",
    "### In-Semester Test 1\n",
    "### Semester 2, 2019"
   ]
  },
  {
   "cell_type": "markdown",
   "metadata": {},
   "source": [
    "###### **Integrity Statement**\n",
    "\n",
    "- I hereby agree to follow any and all in-semester test rules and procedures as stated in the Assessments Info page on Canvas for this course. \n",
    "\n",
    "- I solemnly declare that I will not communicate/ have not communicated with anyone in any way (other than the test invigilators) during the test (such as via emails, texting, chats, sharing files on Dropbox, etc). \n",
    "\n",
    "Please type your full legal name in the box below as your signature per your acceptance of the Integrity Statement. **Your test shall not be marked if you do not sign.**"
   ]
  },
  {
   "cell_type": "markdown",
   "metadata": {},
   "source": [
    "Full Name:"
   ]
  },
  {
   "cell_type": "markdown",
   "metadata": {},
   "source": [
    "***\n",
    "##### <font color='blue'> **Test Instructions** </font>\n",
    "- For each test question, feel free to add more Markdown/ Code answer cells as needed, but please keep these additions to a minimum.\n",
    "- Please keep your answers neatly organised. You will lose points if your solutions are all over the place.\n",
    "- You must show all your work for full credit.\n",
    "- Once you are done, it is your responsibility to compile (run) your notebook and then save it as an HTML file before submission. Your solutions shall be marked exactly as they appear in your HTML file.\n",
    "- You can submit your solutions file via *Canvas > Assignments > In-Semester Test 1*.\n",
    "- You must submit your solutions before the due time. If you miss the due time, you will receive a mark of zero for the test.\n",
    "- This test contains 6 questions for a total of 100 points."
   ]
  },
  {
   "cell_type": "code",
   "execution_count": 1,
   "metadata": {},
   "outputs": [],
   "source": [
    "# common statements\n",
    "import pandas as pd\n",
    "import numpy as np\n",
    "import matplotlib.pyplot as plt\n",
    "%matplotlib inline \n",
    "%config InlineBackend.figure_format = 'retina'\n",
    "plt.style.use(\"ggplot\")"
   ]
  },
  {
   "cell_type": "markdown",
   "metadata": {},
   "source": [
    "***\n",
    "***\n",
    "<font color='red'>**QUESTION 1: (10 points)**</font> Identify the following random variables as **discrete** or **continuous**. You do **not** need to explain your reasoning."
   ]
  },
  {
   "cell_type": "markdown",
   "metadata": {},
   "source": [
    "**A. (2 points)** Length of a Python string object."
   ]
  },
  {
   "cell_type": "markdown",
   "metadata": {},
   "source": [
    "(Your answer here)\n"
   ]
  },
  {
   "cell_type": "markdown",
   "metadata": {},
   "source": [
    "**B. (2 points)** Execution time of a Python program."
   ]
  },
  {
   "cell_type": "markdown",
   "metadata": {},
   "source": [
    "(Your answer here)\n"
   ]
  },
  {
   "cell_type": "markdown",
   "metadata": {},
   "source": [
    "**C. (2 points)** Average satisfaction rate in a course survey with a large number of students."
   ]
  },
  {
   "cell_type": "markdown",
   "metadata": {},
   "source": [
    "(Your answer here)\n"
   ]
  },
  {
   "cell_type": "markdown",
   "metadata": {},
   "source": [
    "**D. (2 points)** Number of rows in a Pandas DataFrame object."
   ]
  },
  {
   "cell_type": "markdown",
   "metadata": {},
   "source": [
    "(Your answer here)\n"
   ]
  },
  {
   "cell_type": "markdown",
   "metadata": {},
   "source": [
    "**E. (2 points)** Score in a test with all multiple choice questions (MCQs)."
   ]
  },
  {
   "cell_type": "markdown",
   "metadata": {},
   "source": [
    "(Your answer here)\n"
   ]
  },
  {
   "cell_type": "markdown",
   "metadata": {},
   "source": [
    "***\n",
    "***\n",
    "<font color='red'>**QUESTION 2: (10 points)**</font> A statistics course offered at RMIT has 250 students. All these students attend the lectures together, but the students are divided into 5 groups, each of 50 students, for tutorial sections administered by different tutors. The lecturer wants to conduct a survey about how satisfied the students are with the course, and he believes that the tutorial section a student is in might affect the student's overall satisfaction with the course.\n",
    "\n",
    "**A. (2 points)** What type of study is this?"
   ]
  },
  {
   "cell_type": "markdown",
   "metadata": {},
   "source": [
    "(Your solution here)"
   ]
  },
  {
   "cell_type": "markdown",
   "metadata": {},
   "source": [
    "**B. (4 points)** Suggest a sampling strategy for carrying out this study."
   ]
  },
  {
   "cell_type": "markdown",
   "metadata": {},
   "source": [
    "(Your solution here)"
   ]
  },
  {
   "cell_type": "markdown",
   "metadata": {},
   "source": [
    "**C. (4 points)** Consider RMIT's CES (Course Evaluation Survey) in general that you are asked to complete for each course at the end of each semester. What types of sampling biases are there in CES? Please just list the biases - no explanation is needed."
   ]
  },
  {
   "cell_type": "markdown",
   "metadata": {},
   "source": [
    "(Your solution here)"
   ]
  },
  {
   "cell_type": "markdown",
   "metadata": {},
   "source": [
    "***\n",
    "***\n",
    "<font color='red'>**QUESTION 3: (15 points)**</font> For each of the following, state whether \n",
    "- you expect the distribution to be symmetric, right skewed, or left skewed. \n",
    "- the mean or median would best represent a typical observation in the data, and \n",
    "- the variability of observations would be best represented using the standard deviation or IQR. \n",
    "\n",
    "You do **not** need to explain your reasoning.\n",
    "\n",
    "**A. (5 points):** Number of laptops in a household."
   ]
  },
  {
   "cell_type": "markdown",
   "metadata": {},
   "source": [
    "(Your answer here)"
   ]
  },
  {
   "cell_type": "markdown",
   "metadata": {},
   "source": [
    "**B. (5 points):** House prices"
   ]
  },
  {
   "cell_type": "markdown",
   "metadata": {},
   "source": [
    "(Your answer here)"
   ]
  },
  {
   "cell_type": "markdown",
   "metadata": {},
   "source": [
    "**C. (5 points):** Weights of people"
   ]
  },
  {
   "cell_type": "markdown",
   "metadata": {},
   "source": [
    "(Your answer here)"
   ]
  },
  {
   "cell_type": "markdown",
   "metadata": {},
   "source": [
    "***\n",
    "***\n",
    "<font color='red'>**QUESTION 4: (15 points)**</font> (fictitious) A cancer institute published the results of a study that investigated the association between smoking and death from lung cancer. Data were obtained for a national sample of almost 120,000 deceased people. The results are summarized in the table below. Each subject in the study was classified according to their smoking status and whether or not they died from lung cancer.\n",
    "\n",
    "| Died From Lung Cancer? ->> | *YES*   | *NO*     | Total  |\n",
    "|---                         |---      |---       |---     |\n",
    "|Never Smoked                |  75     | 98,121   | 98,196 |\n",
    "|Former Smoker               | 680     | 8,345    | 9,025  |\n",
    "|Current Smoker              | 768     | 11,321   | 12,089 |\n",
    "|**Total**                   | 1,523   | 117,787  | 119,310|"
   ]
  },
  {
   "cell_type": "markdown",
   "metadata": {},
   "source": [
    "**A. (5 points)** Find the probability that a randomly selected person never smoked and died from lung cancer."
   ]
  },
  {
   "cell_type": "markdown",
   "metadata": {},
   "source": [
    "(Your answer here)"
   ]
  },
  {
   "cell_type": "markdown",
   "metadata": {},
   "source": [
    "**B. (10 points)** Given that a person died from lung cancer, what is the probability that this person smoked at some point in his/her life (that is, either a former smoker or a current smoker)?"
   ]
  },
  {
   "cell_type": "markdown",
   "metadata": {},
   "source": [
    "(Your answer here)"
   ]
  },
  {
   "cell_type": "markdown",
   "metadata": {},
   "source": [
    "***\n",
    "***\n",
    "<font color='red'>**QUESTION 5: (15 points)**</font> (fictitious) A journal published a study on the gender of children in two-child families. The article reported on the results of the Global Health Issues Interview Survey of almost 50,000 two-child families. The table gives the proportion of families with each gender configuration.\n",
    "\n",
    "|Gender Configuration    | Proportion |\n",
    "|----                    |----        |\n",
    "|   Boy-boy (BB)         | 0.235      |\n",
    "|   Girl-boy (GB)        | 0.262      |\n",
    "|   Boy-girl (BG)        | 0.251      |\n",
    "|   Girl-girl (GG)       | 0.252      |\n",
    "\n",
    "Let the random variable X represent the number of girls in a two-child family."
   ]
  },
  {
   "cell_type": "markdown",
   "metadata": {},
   "source": [
    "**A. (6 points)** Find the probability distribution for X."
   ]
  },
  {
   "cell_type": "markdown",
   "metadata": {},
   "source": [
    "(Your answer here)"
   ]
  },
  {
   "cell_type": "markdown",
   "metadata": {},
   "source": [
    "**B. (6 points)** Find the expected value for X."
   ]
  },
  {
   "cell_type": "markdown",
   "metadata": {},
   "source": [
    "(Your answer here)"
   ]
  },
  {
   "cell_type": "markdown",
   "metadata": {},
   "source": [
    "**C. (3 points)** Provide a real-world interpretation for the expected value you found in Part (B)."
   ]
  },
  {
   "cell_type": "markdown",
   "metadata": {},
   "source": [
    "(Your answer here)"
   ]
  },
  {
   "cell_type": "markdown",
   "metadata": {},
   "source": [
    "***\n",
    "***\n",
    "<font color='red'>**QUESTION 6: (35 points) (Infant Mortality)**</font> The infant mortality rate is defined as the number of child deaths under one year of age, expressed per 1000 live births. Under the Test 1 page on Canvas, you will see a CSV file named \"oecd_inf_mortality.csv\". This file contains infant mortality data for OECD countries between the years of 1960 and 2017. You will read in this dataset as a Pandas DataFrame object called \"df\".\n",
    "\n",
    "**A. (5 points)** How many rows and columns are there in this dataset? Also display 10 randomly selected rows."
   ]
  },
  {
   "cell_type": "markdown",
   "metadata": {},
   "source": [
    "(Your answer here)"
   ]
  },
  {
   "cell_type": "markdown",
   "metadata": {},
   "source": [
    "**B. (5 points)** How many countries are included in this dataset?"
   ]
  },
  {
   "cell_type": "markdown",
   "metadata": {},
   "source": [
    "(Your answer here)"
   ]
  },
  {
   "cell_type": "markdown",
   "metadata": {},
   "source": [
    "**C. (3 points)** Subset this dataset for the year 2015 and assign it to a Pandas DataFrame object called \"df2015\". In the rest of this question, you will only be working with the `df2015` data frame. How many rows are there in this data frame?"
   ]
  },
  {
   "cell_type": "markdown",
   "metadata": {},
   "source": [
    "(Your answer here)"
   ]
  },
  {
   "cell_type": "markdown",
   "metadata": {},
   "source": [
    "**D. (7 points)** Generate an histogram of infant mortality rates for the year of 2015 with 10 bins. Comment on the skewness and modality of this histogram."
   ]
  },
  {
   "cell_type": "markdown",
   "metadata": {},
   "source": [
    "(Your answer here)"
   ]
  },
  {
   "cell_type": "markdown",
   "metadata": {},
   "source": [
    "**E. (6 points)** Compute a 5-number summary for infant mortality for the year of 2015. Also compute the IQR."
   ]
  },
  {
   "cell_type": "markdown",
   "metadata": {},
   "source": [
    "**F. (9 points)** Generate a boxplot for the same dataset in Part (E). How many outliers do you see? Find out which countries these are using the max whisker reach value."
   ]
  },
  {
   "cell_type": "markdown",
   "metadata": {},
   "source": [
    "(Your answer here)"
   ]
  },
  {
   "cell_type": "markdown",
   "metadata": {},
   "source": [
    "***\n",
    "**------------------------------ END OF TEST ------------------------------**"
   ]
  }
 ],
 "metadata": {
  "hide_input": false,
  "kernelspec": {
   "display_name": "Python 3",
   "language": "python",
   "name": "python3"
  },
  "language_info": {
   "codemirror_mode": {
    "name": "ipython",
    "version": 3
   },
   "file_extension": ".py",
   "mimetype": "text/x-python",
   "name": "python",
   "nbconvert_exporter": "python",
   "pygments_lexer": "ipython3",
   "version": "3.6.8"
  }
 },
 "nbformat": 4,
 "nbformat_minor": 2
}
